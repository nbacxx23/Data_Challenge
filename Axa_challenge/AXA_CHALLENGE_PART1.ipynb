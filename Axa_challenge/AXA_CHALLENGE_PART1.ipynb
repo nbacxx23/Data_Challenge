{
 "cells": [
  {
   "cell_type": "markdown",
   "metadata": {},
   "source": [
    "# AXA CHALLENGE Part I\n",
    "**Jie ZHENG ** <br>\n",
    "**Yunzhi BAI** <br>\n",
    "**Xiaoxiao CHEN**\n",
    "<br>\n",
    "<br>\n",
    "<br>\n",
    "**This part is for the methode: train one model by using all the data.**<br>\n",
    "<br>\n",
    "**To run this part, please run it \"step by step\"! In the sections of \"Training\", there are many models provided, please just run one chosen model at one time, then run the submission section.** <br>\n",
    "**For example: To use randomForest, just run the cells in the section \"RandomForest\". Then, do not run cells in other sections anymore!**\n",
    "<br><br>\n",
    "**IMPORTANT: Must provide the path (in the end of this notebook) to save the submisson file**\n",
    "<br><br>\n",
    "**IMPORTANT: There is the other part (train only one model over all assignments) in the directory.**"
   ]
  },
  {
   "cell_type": "markdown",
   "metadata": {},
   "source": [
    "# 1. Preprocessing"
   ]
  },
  {
   "cell_type": "markdown",
   "metadata": {},
   "source": [
    "## 1.1 Load Data"
   ]
  },
  {
   "cell_type": "code",
   "execution_count": 1,
   "metadata": {
    "collapsed": false
   },
   "outputs": [
    {
     "data": {
      "text/html": [
       "<div>\n",
       "<table border=\"1\" class=\"dataframe\">\n",
       "  <thead>\n",
       "    <tr style=\"text-align: right;\">\n",
       "      <th></th>\n",
       "      <th>DATE</th>\n",
       "      <th>WEEK_END</th>\n",
       "      <th>DAY_WE_DS</th>\n",
       "      <th>TPER_TEAM</th>\n",
       "      <th>TPER_HOUR</th>\n",
       "      <th>SPLIT_COD</th>\n",
       "      <th>ASS_ASSIGNMENT</th>\n",
       "      <th>CSPL_ACDCALLS</th>\n",
       "      <th>CSPL_ABNCALLS</th>\n",
       "      <th>CSPL_ABNCALLS1</th>\n",
       "      <th>CSPL_RECEIVED_CALLS</th>\n",
       "    </tr>\n",
       "  </thead>\n",
       "  <tbody>\n",
       "    <tr>\n",
       "      <th>0</th>\n",
       "      <td>2011-04-24 01:30:00.000</td>\n",
       "      <td>1</td>\n",
       "      <td>Dimanche</td>\n",
       "      <td>Nuit</td>\n",
       "      <td>1</td>\n",
       "      <td>855</td>\n",
       "      <td>Téléphonie</td>\n",
       "      <td>0</td>\n",
       "      <td>0</td>\n",
       "      <td>0</td>\n",
       "      <td>0</td>\n",
       "    </tr>\n",
       "    <tr>\n",
       "      <th>1</th>\n",
       "      <td>2011-04-24 01:30:00.000</td>\n",
       "      <td>1</td>\n",
       "      <td>Dimanche</td>\n",
       "      <td>Nuit</td>\n",
       "      <td>1</td>\n",
       "      <td>1587</td>\n",
       "      <td>Téléphonie</td>\n",
       "      <td>0</td>\n",
       "      <td>0</td>\n",
       "      <td>0</td>\n",
       "      <td>0</td>\n",
       "    </tr>\n",
       "    <tr>\n",
       "      <th>2</th>\n",
       "      <td>2011-04-24 01:30:00.000</td>\n",
       "      <td>1</td>\n",
       "      <td>Dimanche</td>\n",
       "      <td>Nuit</td>\n",
       "      <td>1</td>\n",
       "      <td>1589</td>\n",
       "      <td>Téléphonie</td>\n",
       "      <td>0</td>\n",
       "      <td>0</td>\n",
       "      <td>0</td>\n",
       "      <td>0</td>\n",
       "    </tr>\n",
       "    <tr>\n",
       "      <th>3</th>\n",
       "      <td>2011-04-24 01:30:00.000</td>\n",
       "      <td>1</td>\n",
       "      <td>Dimanche</td>\n",
       "      <td>Nuit</td>\n",
       "      <td>1</td>\n",
       "      <td>1591</td>\n",
       "      <td>Téléphonie</td>\n",
       "      <td>0</td>\n",
       "      <td>0</td>\n",
       "      <td>0</td>\n",
       "      <td>0</td>\n",
       "    </tr>\n",
       "    <tr>\n",
       "      <th>4</th>\n",
       "      <td>2011-04-24 01:30:00.000</td>\n",
       "      <td>1</td>\n",
       "      <td>Dimanche</td>\n",
       "      <td>Nuit</td>\n",
       "      <td>1</td>\n",
       "      <td>1555</td>\n",
       "      <td>Téléphonie</td>\n",
       "      <td>1</td>\n",
       "      <td>0</td>\n",
       "      <td>0</td>\n",
       "      <td>1</td>\n",
       "    </tr>\n",
       "  </tbody>\n",
       "</table>\n",
       "</div>"
      ],
      "text/plain": [
       "                      DATE  WEEK_END DAY_WE_DS TPER_TEAM  TPER_HOUR  \\\n",
       "0  2011-04-24 01:30:00.000         1  Dimanche      Nuit          1   \n",
       "1  2011-04-24 01:30:00.000         1  Dimanche      Nuit          1   \n",
       "2  2011-04-24 01:30:00.000         1  Dimanche      Nuit          1   \n",
       "3  2011-04-24 01:30:00.000         1  Dimanche      Nuit          1   \n",
       "4  2011-04-24 01:30:00.000         1  Dimanche      Nuit          1   \n",
       "\n",
       "   SPLIT_COD ASS_ASSIGNMENT  CSPL_ACDCALLS  CSPL_ABNCALLS  CSPL_ABNCALLS1  \\\n",
       "0        855     Téléphonie              0              0               0   \n",
       "1       1587     Téléphonie              0              0               0   \n",
       "2       1589     Téléphonie              0              0               0   \n",
       "3       1591     Téléphonie              0              0               0   \n",
       "4       1555     Téléphonie              1              0               0   \n",
       "\n",
       "   CSPL_RECEIVED_CALLS  \n",
       "0                    0  \n",
       "1                    0  \n",
       "2                    0  \n",
       "3                    0  \n",
       "4                    1  "
      ]
     },
     "execution_count": 1,
     "metadata": {},
     "output_type": "execute_result"
    }
   ],
   "source": [
    "%matplotlib inline\n",
    "import numpy as np\n",
    "import matplotlib.pyplot as plt\n",
    "import pandas as pd\n",
    "\n",
    "fields=['DATE','WEEK_END','DAY_WE_DS','TPER_TEAM','TPER_HOUR','SPLIT_COD','ASS_ASSIGNMENT',\n",
    "        'CSPL_ACDCALLS','CSPL_ABNCALLS','CSPL_ABNCALLS1','CSPL_RECEIVED_CALLS']\n",
    "\n",
    "train_fname = 'train_2011_2012_2013.csv'\n",
    "df_train = pd.read_csv(train_fname, usecols=fields, sep=';')\n",
    "df_train.head()"
   ]
  },
  {
   "cell_type": "code",
   "execution_count": 2,
   "metadata": {
    "collapsed": false
   },
   "outputs": [
    {
     "data": {
      "text/html": [
       "<div>\n",
       "<table border=\"1\" class=\"dataframe\">\n",
       "  <thead>\n",
       "    <tr style=\"text-align: right;\">\n",
       "      <th></th>\n",
       "      <th>DATE</th>\n",
       "      <th>ASS_ASSIGNMENT</th>\n",
       "    </tr>\n",
       "  </thead>\n",
       "  <tbody>\n",
       "    <tr>\n",
       "      <th>0</th>\n",
       "      <td>2012-12-28 00:00:00.000</td>\n",
       "      <td>CMS</td>\n",
       "    </tr>\n",
       "    <tr>\n",
       "      <th>1</th>\n",
       "      <td>2012-12-28 00:00:00.000</td>\n",
       "      <td>Crises</td>\n",
       "    </tr>\n",
       "    <tr>\n",
       "      <th>2</th>\n",
       "      <td>2012-12-28 00:00:00.000</td>\n",
       "      <td>Domicile</td>\n",
       "    </tr>\n",
       "    <tr>\n",
       "      <th>3</th>\n",
       "      <td>2012-12-28 00:00:00.000</td>\n",
       "      <td>Gestion</td>\n",
       "    </tr>\n",
       "    <tr>\n",
       "      <th>4</th>\n",
       "      <td>2012-12-28 00:00:00.000</td>\n",
       "      <td>Gestion - Accueil Telephonique</td>\n",
       "    </tr>\n",
       "  </tbody>\n",
       "</table>\n",
       "</div>"
      ],
      "text/plain": [
       "                      DATE                  ASS_ASSIGNMENT\n",
       "0  2012-12-28 00:00:00.000                             CMS\n",
       "1  2012-12-28 00:00:00.000                          Crises\n",
       "2  2012-12-28 00:00:00.000                        Domicile\n",
       "3  2012-12-28 00:00:00.000                         Gestion\n",
       "4  2012-12-28 00:00:00.000  Gestion - Accueil Telephonique"
      ]
     },
     "execution_count": 2,
     "metadata": {},
     "output_type": "execute_result"
    }
   ],
   "source": [
    "submission_fname = 'submission.txt'\n",
    "dfsub= pd.read_csv(submission_fname, sep='\\t')\n",
    "dfsub = dfsub.drop('prediction',axis=1)\n",
    "dfsub.head()"
   ]
  },
  {
   "cell_type": "markdown",
   "metadata": {},
   "source": [
    "## 1.2 Sum numbers of received calls for a given date and assignment"
   ]
  },
  {
   "cell_type": "code",
   "execution_count": 3,
   "metadata": {
    "collapsed": true
   },
   "outputs": [],
   "source": [
    "from pandas.core.frame import DataFrame\n",
    "def sum_col_calls(dataframe):\n",
    "    df = dataframe.copy()\n",
    "    df = DataFrame({'sum_RECEIVED_CALLS':df.groupby(['DATE','WEEK_END','DAY_WE_DS','TPER_TEAM','TPER_HOUR',\n",
    "                                                     'ASS_ASSIGNMENT'])['CSPL_RECEIVED_CALLS'].sum()}).reset_index()\n",
    "    return df"
   ]
  },
  {
   "cell_type": "code",
   "execution_count": 4,
   "metadata": {
    "collapsed": true
   },
   "outputs": [],
   "source": [
    "train = sum_col_calls(df_train)"
   ]
  },
  {
   "cell_type": "markdown",
   "metadata": {},
   "source": [
    "## 1.3 Define functions and dictionaries"
   ]
  },
  {
   "cell_type": "code",
   "execution_count": 5,
   "metadata": {
    "collapsed": true
   },
   "outputs": [],
   "source": [
    "options_weekdays = {'Monday' : 1,\n",
    "            'Tuesday' : 2,\n",
    "            'Wednesday' : 3,\n",
    "            'Thursday' : 4,\n",
    "            'Friday' : 5,\n",
    "            'Saturday' : 6,\n",
    "            'Sunday' : 7,\n",
    "}\n",
    "\n",
    "\n",
    "options_weekend = {'Monday' : 0,\n",
    "            'Tuesday' : 0,\n",
    "            'Wednesday' : 0,\n",
    "            'Thursday' : 0,\n",
    "            'Friday' : 0,\n",
    "            'Saturday' : 1,\n",
    "            'Sunday' : 1,\n",
    "}\n",
    "\n",
    "options_weekdays_fr = {'Lundi' : 1,\n",
    "            'Mardi' : 2,\n",
    "            'Mercredi' : 3,\n",
    "            'Jeudi' : 4,\n",
    "            'Vendredi' : 5,\n",
    "            'Samedi' : 6,\n",
    "            'Dimanche' : 7,\n",
    "}\n",
    "\n",
    "nuit_jours = {'Nuit':0,'Jours':1}\n",
    "\n",
    "l = np.unique(train.ASS_ASSIGNMENT.values)\n",
    "s = dict((l[i],i) for i in np.arange(len(l)))"
   ]
  },
  {
   "cell_type": "code",
   "execution_count": 6,
   "metadata": {
    "collapsed": true
   },
   "outputs": [],
   "source": [
    "import datetime\n",
    "\n",
    "# gettime is for test_set, to construct features about date\n",
    "def gettime(dataframe):\n",
    "    df = dataframe.copy()\n",
    "    df['Year'] = pd.DatetimeIndex(df['DATE']).year\n",
    "    df['Month'] = pd.DatetimeIndex(df['DATE']).month\n",
    "    df['Day'] = pd.DatetimeIndex(df['DATE']).day\n",
    "    n = len(df)\n",
    "    for i in np.arange(n):\n",
    "        tmp = df.ix[i].DATE\n",
    "        weekday = datetime.datetime.strptime(tmp, '%Y-%m-%d %H:%M:%S.%f').strftime('%A')\n",
    "        hour = '{d.hour}'.format(d=datetime.datetime.strptime(tmp, '%Y-%m-%d %H:%M:%S.%f'))\n",
    "        minute = datetime.datetime.strptime(tmp, '%Y-%m-%d %H:%M:%S.%f').strftime('%M')\n",
    "        df.set_value(i, 'DAY_WE_DS', options_weekdays[weekday])\n",
    "        df.set_value(i, 'WEEK_END', options_weekend[weekday])\n",
    "        df.set_value(i, 'TPER_HOUR', hour+minute)\n",
    "        df.set_value(i, 'ASS_ASSIGNMENT', s[df.ix[i].ASS_ASSIGNMENT])\n",
    "        if (int(hour)>=8 and int(hour)<=22) or (int(hour)==7 and int(minute)==30) or (int(hour)==23 and int(minute)==0):\n",
    "            df.set_value(i, 'TPER_TEAM', 1)\n",
    "        else: df.set_value(i, 'TPER_TEAM', 0)\n",
    "    return df\n",
    "\n",
    "# getitime is for train_set, to construct features about date\n",
    "def gettime_2(dataframe):\n",
    "    df = dataframe.copy()\n",
    "    df['Year'] = pd.DatetimeIndex(df['DATE']).year\n",
    "    df['Month'] = pd.DatetimeIndex(df['DATE']).month\n",
    "    df['Day'] = pd.DatetimeIndex(df['DATE']).day\n",
    "    n = len(df)\n",
    "    df = df.drop('TPER_HOUR',axis=1)\n",
    "    \n",
    "    for i in np.arange(n):\n",
    "        df.set_value(i, 'DAY_WE_DS', options_weekdays_fr[df.ix[i].DAY_WE_DS])\n",
    "        df.set_value(i, 'TPER_TEAM', nuit_jours[df.ix[i].TPER_TEAM])\n",
    "        df.set_value(i, 'ASS_ASSIGNMENT', s[df.ix[i].ASS_ASSIGNMENT])\n",
    "        \n",
    "        tmp = df.ix[i].DATE\n",
    "        weekday = datetime.datetime.strptime(tmp, '%Y-%m-%d %H:%M:%S.%f').strftime('%A')\n",
    "        hour = '{d.hour}'.format(d=datetime.datetime.strptime(tmp, '%Y-%m-%d %H:%M:%S.%f'))\n",
    "        minute = datetime.datetime.strptime(tmp, '%Y-%m-%d %H:%M:%S.%f').strftime('%M')\n",
    "        df.set_value(i, 'TPER_HOUR', hour+minute)\n",
    "    return df\n",
    "\n",
    "        \n",
    "# 07:30:00.000 Jours \n",
    "# 23:30:00.000 Nuit"
   ]
  },
  {
   "cell_type": "code",
   "execution_count": 7,
   "metadata": {
    "collapsed": true
   },
   "outputs": [],
   "source": [
    "from pandas.core.frame import DataFrame\n",
    "\n",
    "# addMeanValues is to compute mean value over all assignments\n",
    "def addMeanValues(df_train, df_test, byDAY_WE_DS=True, byDAY=True, byMonth=True, byHour=True, byTEAM=True, byYear=True):\n",
    "    df = df_train.copy()\n",
    "    df_2 = df_test.copy()\n",
    "    if byDAY_WE_DS:\n",
    "        df_meanByDAY_WE_DS = DataFrame({'meanByDAY_WE_DS':df.groupby(['DAY_WE_DS'])['sum_RECEIVED_CALLS'].mean()}).reset_index()\n",
    "        df = df.join(df_meanByDAY_WE_DS.set_index('DAY_WE_DS'),on='DAY_WE_DS')\n",
    "        df_2 = df_2.join(df_meanByDAY_WE_DS.set_index('DAY_WE_DS'),on='DAY_WE_DS')\n",
    "    if byDAY:\n",
    "        df_meanByDAY = DataFrame({'meanByDay':df.groupby(['Day'])['sum_RECEIVED_CALLS'].mean()}).reset_index()\n",
    "        df = df.join(df_meanByDAY.set_index('Day'),on='Day')\n",
    "        df_2 = df_2.join(df_meanByDAY.set_index('Day'),on='Day')\n",
    "    if byMonth:\n",
    "        df_meanByMONTH = DataFrame({'meanByMonth':df.groupby(['Month'])['sum_RECEIVED_CALLS'].mean()}).reset_index()\n",
    "        df = df.join(df_meanByMONTH.set_index('Month'),on='Month')\n",
    "        df_2 = df_2.join(df_meanByMONTH.set_index('Month'),on='Month')\n",
    "    if byHour:\n",
    "        df_meanByHour = DataFrame({'meanByHour':df.groupby(['TPER_HOUR'])['sum_RECEIVED_CALLS'].mean()}).reset_index()\n",
    "        df = df.join(df_meanByHour.set_index('TPER_HOUR'),on='TPER_HOUR')\n",
    "        df_2 = df_2.join(df_meanByHour.set_index('TPER_HOUR'),on='TPER_HOUR')\n",
    "    if byTEAM:\n",
    "        df_meanByTEAM = DataFrame({'meanByTEAM':df.groupby(['TPER_TEAM'])['sum_RECEIVED_CALLS'].mean()}).reset_index()\n",
    "        df = df.join(df_meanByTEAM.set_index('TPER_TEAM'),on='TPER_TEAM')\n",
    "        df_2 = df_2.join(df_meanByTEAM.set_index('TPER_TEAM'),on='TPER_TEAM')\n",
    "    if byYear:\n",
    "        df_meanByYear = DataFrame({'meanByYear':df.groupby(['Year'])['sum_RECEIVED_CALLS'].mean()}).reset_index()\n",
    "        df = df.join(df_meanByYear.set_index('Year'),on='TPER_TEAM')\n",
    "        df_2 = df_2.join(df_meanByYear.set_index('Year'),on='TPER_TEAM')     \n",
    "    return df,df_2\n",
    "\n",
    "# addMeanValues_2 is to compute mean value for each assignment\n",
    "def addMeanValues_2(df_train, df_test, byDAY_WE_DS=True, byDAY=True, byMonth=True, byHour=True, byTEAM=True, byYear=True):\n",
    "    df = df_train.copy()\n",
    "    df_2 = df_test.copy()\n",
    "    if byDAY_WE_DS:\n",
    "        df_meanByDAY_WE_DS = DataFrame({'meanByDAY_WE_DS':df.groupby(['DAY_WE_DS','ASS_ASSIGNMENT'])['sum_RECEIVED_CALLS'].mean()}).reset_index()\n",
    "        df = df.join(df_meanByDAY_WE_DS.set_index(['DAY_WE_DS','ASS_ASSIGNMENT']),on=['DAY_WE_DS','ASS_ASSIGNMENT'])\n",
    "        df_2 = df_2.join(df_meanByDAY_WE_DS.set_index(['DAY_WE_DS','ASS_ASSIGNMENT']),on=['DAY_WE_DS','ASS_ASSIGNMENT'])\n",
    "    if byDAY:\n",
    "        df_meanByDAY = DataFrame({'meanByDay':df.groupby(['Day','ASS_ASSIGNMENT'])['sum_RECEIVED_CALLS'].mean()}).reset_index()\n",
    "        df = df.join(df_meanByDAY.set_index(['Day','ASS_ASSIGNMENT']),on=['Day','ASS_ASSIGNMENT'])\n",
    "        df_2 = df_2.join(df_meanByDAY.set_index(['Day','ASS_ASSIGNMENT']),on=['Day','ASS_ASSIGNMENT'])\n",
    "    if byMonth:\n",
    "        df_meanByMONTH = DataFrame({'meanByMonth':df.groupby(['Month','ASS_ASSIGNMENT'])['sum_RECEIVED_CALLS'].mean()}).reset_index()\n",
    "        df = df.join(df_meanByMONTH.set_index(['Month','ASS_ASSIGNMENT']),on=['Month','ASS_ASSIGNMENT'])\n",
    "        df_2 = df_2.join(df_meanByMONTH.set_index(['Month','ASS_ASSIGNMENT']),on=['Month','ASS_ASSIGNMENT'])\n",
    "    if byHour:\n",
    "        df_meanByHour = DataFrame({'meanByHour':df.groupby(['TPER_HOUR','ASS_ASSIGNMENT'])['sum_RECEIVED_CALLS'].mean()}).reset_index()\n",
    "        df = df.join(df_meanByHour.set_index(['TPER_HOUR','ASS_ASSIGNMENT']),on=['TPER_HOUR','ASS_ASSIGNMENT'])\n",
    "        df_2 = df_2.join(df_meanByHour.set_index(['TPER_HOUR','ASS_ASSIGNMENT']),on=['TPER_HOUR','ASS_ASSIGNMENT'])\n",
    "    if byTEAM:\n",
    "        df_meanByTEAM = DataFrame({'meanByTEAM':df.groupby(['TPER_TEAM','ASS_ASSIGNMENT'])['sum_RECEIVED_CALLS'].mean()}).reset_index()\n",
    "        df = df.join(df_meanByTEAM.set_index(['TPER_TEAM','ASS_ASSIGNMENT']),on=['TPER_TEAM','ASS_ASSIGNMENT'])\n",
    "        df_2 = df_2.join(df_meanByTEAM.set_index(['TPER_TEAM','ASS_ASSIGNMENT']),on=['TPER_TEAM','ASS_ASSIGNMENT'])\n",
    "    if byYear:\n",
    "        df_meanByYear = DataFrame({'meanByYear':df.groupby(['Year','ASS_ASSIGNMENT'])['sum_RECEIVED_CALLS'].mean()}).reset_index()\n",
    "        df = df.join(df_meanByYear.set_index(['Year','ASS_ASSIGNMENT']),on=['Year','ASS_ASSIGNMENT'])\n",
    "        df_2 = df_2.join(df_meanByYear.set_index(['Year','ASS_ASSIGNMENT']),on=['Year','ASS_ASSIGNMENT'])    \n",
    "    return df,df_2"
   ]
  },
  {
   "cell_type": "markdown",
   "metadata": {},
   "source": [
    "## 1.4 Construct features about time for train_set and test_set"
   ]
  },
  {
   "cell_type": "code",
   "execution_count": 8,
   "metadata": {
    "collapsed": false
   },
   "outputs": [
    {
     "data": {
      "text/html": [
       "<div>\n",
       "<table border=\"1\" class=\"dataframe\">\n",
       "  <thead>\n",
       "    <tr style=\"text-align: right;\">\n",
       "      <th></th>\n",
       "      <th>DATE</th>\n",
       "      <th>ASS_ASSIGNMENT</th>\n",
       "      <th>Year</th>\n",
       "      <th>Month</th>\n",
       "      <th>Day</th>\n",
       "      <th>DAY_WE_DS</th>\n",
       "      <th>WEEK_END</th>\n",
       "      <th>TPER_HOUR</th>\n",
       "      <th>TPER_TEAM</th>\n",
       "    </tr>\n",
       "  </thead>\n",
       "  <tbody>\n",
       "    <tr>\n",
       "      <th>0</th>\n",
       "      <td>2012-12-28 00:00:00.000</td>\n",
       "      <td>1</td>\n",
       "      <td>2012</td>\n",
       "      <td>12</td>\n",
       "      <td>28</td>\n",
       "      <td>5.0</td>\n",
       "      <td>0.0</td>\n",
       "      <td>000</td>\n",
       "      <td>0.0</td>\n",
       "    </tr>\n",
       "    <tr>\n",
       "      <th>1</th>\n",
       "      <td>2012-12-28 00:00:00.000</td>\n",
       "      <td>2</td>\n",
       "      <td>2012</td>\n",
       "      <td>12</td>\n",
       "      <td>28</td>\n",
       "      <td>5.0</td>\n",
       "      <td>0.0</td>\n",
       "      <td>000</td>\n",
       "      <td>0.0</td>\n",
       "    </tr>\n",
       "    <tr>\n",
       "      <th>2</th>\n",
       "      <td>2012-12-28 00:00:00.000</td>\n",
       "      <td>3</td>\n",
       "      <td>2012</td>\n",
       "      <td>12</td>\n",
       "      <td>28</td>\n",
       "      <td>5.0</td>\n",
       "      <td>0.0</td>\n",
       "      <td>000</td>\n",
       "      <td>0.0</td>\n",
       "    </tr>\n",
       "    <tr>\n",
       "      <th>3</th>\n",
       "      <td>2012-12-28 00:00:00.000</td>\n",
       "      <td>5</td>\n",
       "      <td>2012</td>\n",
       "      <td>12</td>\n",
       "      <td>28</td>\n",
       "      <td>5.0</td>\n",
       "      <td>0.0</td>\n",
       "      <td>000</td>\n",
       "      <td>0.0</td>\n",
       "    </tr>\n",
       "    <tr>\n",
       "      <th>4</th>\n",
       "      <td>2012-12-28 00:00:00.000</td>\n",
       "      <td>6</td>\n",
       "      <td>2012</td>\n",
       "      <td>12</td>\n",
       "      <td>28</td>\n",
       "      <td>5.0</td>\n",
       "      <td>0.0</td>\n",
       "      <td>000</td>\n",
       "      <td>0.0</td>\n",
       "    </tr>\n",
       "  </tbody>\n",
       "</table>\n",
       "</div>"
      ],
      "text/plain": [
       "                      DATE ASS_ASSIGNMENT  Year  Month  Day  DAY_WE_DS  \\\n",
       "0  2012-12-28 00:00:00.000              1  2012     12   28        5.0   \n",
       "1  2012-12-28 00:00:00.000              2  2012     12   28        5.0   \n",
       "2  2012-12-28 00:00:00.000              3  2012     12   28        5.0   \n",
       "3  2012-12-28 00:00:00.000              5  2012     12   28        5.0   \n",
       "4  2012-12-28 00:00:00.000              6  2012     12   28        5.0   \n",
       "\n",
       "   WEEK_END TPER_HOUR  TPER_TEAM  \n",
       "0       0.0       000        0.0  \n",
       "1       0.0       000        0.0  \n",
       "2       0.0       000        0.0  \n",
       "3       0.0       000        0.0  \n",
       "4       0.0       000        0.0  "
      ]
     },
     "execution_count": 8,
     "metadata": {},
     "output_type": "execute_result"
    }
   ],
   "source": [
    "dfsub_v1 = gettime(dfsub)\n",
    "dfsub_v1.head(5)"
   ]
  },
  {
   "cell_type": "code",
   "execution_count": null,
   "metadata": {
    "collapsed": false
   },
   "outputs": [],
   "source": [
    "train_v1 = gettime_2(train)\n",
    "train_v1.head()"
   ]
  },
  {
   "cell_type": "markdown",
   "metadata": {},
   "source": [
    "## 1.5 Add statistic information (average received calls)"
   ]
  },
  {
   "cell_type": "code",
   "execution_count": 8,
   "metadata": {
    "collapsed": false
   },
   "outputs": [
    {
     "data": {
      "text/html": [
       "<div>\n",
       "<table border=\"1\" class=\"dataframe\">\n",
       "  <thead>\n",
       "    <tr style=\"text-align: right;\">\n",
       "      <th></th>\n",
       "      <th>DATE</th>\n",
       "      <th>WEEK_END</th>\n",
       "      <th>DAY_WE_DS</th>\n",
       "      <th>TPER_TEAM</th>\n",
       "      <th>ASS_ASSIGNMENT</th>\n",
       "      <th>sum_RECEIVED_CALLS</th>\n",
       "      <th>Year</th>\n",
       "      <th>Month</th>\n",
       "      <th>Day</th>\n",
       "      <th>TPER_HOUR</th>\n",
       "      <th>meanByDAY_WE_DS</th>\n",
       "      <th>meanByDay</th>\n",
       "      <th>meanByMonth</th>\n",
       "      <th>meanByHour</th>\n",
       "      <th>meanByTEAM</th>\n",
       "      <th>meanByYear</th>\n",
       "    </tr>\n",
       "  </thead>\n",
       "  <tbody>\n",
       "    <tr>\n",
       "      <th>0</th>\n",
       "      <td>2011-01-01 00:00:00.000</td>\n",
       "      <td>1</td>\n",
       "      <td>6</td>\n",
       "      <td>0</td>\n",
       "      <td>2</td>\n",
       "      <td>0</td>\n",
       "      <td>2011</td>\n",
       "      <td>1</td>\n",
       "      <td>1</td>\n",
       "      <td>0</td>\n",
       "      <td>0.000000</td>\n",
       "      <td>0.000000</td>\n",
       "      <td>0.001667</td>\n",
       "      <td>0.000000</td>\n",
       "      <td>0.000355</td>\n",
       "      <td>0.013558</td>\n",
       "    </tr>\n",
       "    <tr>\n",
       "      <th>1</th>\n",
       "      <td>2011-01-01 00:00:00.000</td>\n",
       "      <td>1</td>\n",
       "      <td>6</td>\n",
       "      <td>0</td>\n",
       "      <td>3</td>\n",
       "      <td>0</td>\n",
       "      <td>2011</td>\n",
       "      <td>1</td>\n",
       "      <td>1</td>\n",
       "      <td>0</td>\n",
       "      <td>2.225895</td>\n",
       "      <td>5.009535</td>\n",
       "      <td>7.572454</td>\n",
       "      <td>0.154762</td>\n",
       "      <td>0.089810</td>\n",
       "      <td>6.066290</td>\n",
       "    </tr>\n",
       "    <tr>\n",
       "      <th>2</th>\n",
       "      <td>2011-01-01 00:00:00.000</td>\n",
       "      <td>1</td>\n",
       "      <td>6</td>\n",
       "      <td>0</td>\n",
       "      <td>5</td>\n",
       "      <td>0</td>\n",
       "      <td>2011</td>\n",
       "      <td>1</td>\n",
       "      <td>1</td>\n",
       "      <td>0</td>\n",
       "      <td>0.000000</td>\n",
       "      <td>0.001199</td>\n",
       "      <td>0.004167</td>\n",
       "      <td>0.000000</td>\n",
       "      <td>0.000126</td>\n",
       "      <td>0.000000</td>\n",
       "    </tr>\n",
       "    <tr>\n",
       "      <th>3</th>\n",
       "      <td>2011-01-01 00:00:00.000</td>\n",
       "      <td>1</td>\n",
       "      <td>6</td>\n",
       "      <td>0</td>\n",
       "      <td>6</td>\n",
       "      <td>0</td>\n",
       "      <td>2011</td>\n",
       "      <td>1</td>\n",
       "      <td>1</td>\n",
       "      <td>0</td>\n",
       "      <td>0.000149</td>\n",
       "      <td>1.814748</td>\n",
       "      <td>2.751157</td>\n",
       "      <td>0.003074</td>\n",
       "      <td>0.000387</td>\n",
       "      <td>2.456820</td>\n",
       "    </tr>\n",
       "    <tr>\n",
       "      <th>4</th>\n",
       "      <td>2011-01-01 00:00:00.000</td>\n",
       "      <td>1</td>\n",
       "      <td>6</td>\n",
       "      <td>0</td>\n",
       "      <td>7</td>\n",
       "      <td>0</td>\n",
       "      <td>2011</td>\n",
       "      <td>1</td>\n",
       "      <td>1</td>\n",
       "      <td>0</td>\n",
       "      <td>0.000000</td>\n",
       "      <td>0.104213</td>\n",
       "      <td>0.162264</td>\n",
       "      <td>0.000000</td>\n",
       "      <td>0.000000</td>\n",
       "      <td>0.119052</td>\n",
       "    </tr>\n",
       "  </tbody>\n",
       "</table>\n",
       "</div>"
      ],
      "text/plain": [
       "                      DATE  WEEK_END  DAY_WE_DS  TPER_TEAM  ASS_ASSIGNMENT  \\\n",
       "0  2011-01-01 00:00:00.000         1          6          0               2   \n",
       "1  2011-01-01 00:00:00.000         1          6          0               3   \n",
       "2  2011-01-01 00:00:00.000         1          6          0               5   \n",
       "3  2011-01-01 00:00:00.000         1          6          0               6   \n",
       "4  2011-01-01 00:00:00.000         1          6          0               7   \n",
       "\n",
       "   sum_RECEIVED_CALLS  Year  Month  Day  TPER_HOUR  meanByDAY_WE_DS  \\\n",
       "0                   0  2011      1    1          0         0.000000   \n",
       "1                   0  2011      1    1          0         2.225895   \n",
       "2                   0  2011      1    1          0         0.000000   \n",
       "3                   0  2011      1    1          0         0.000149   \n",
       "4                   0  2011      1    1          0         0.000000   \n",
       "\n",
       "   meanByDay  meanByMonth  meanByHour  meanByTEAM  meanByYear  \n",
       "0   0.000000     0.001667    0.000000    0.000355    0.013558  \n",
       "1   5.009535     7.572454    0.154762    0.089810    6.066290  \n",
       "2   0.001199     0.004167    0.000000    0.000126    0.000000  \n",
       "3   1.814748     2.751157    0.003074    0.000387    2.456820  \n",
       "4   0.104213     0.162264    0.000000    0.000000    0.119052  "
      ]
     },
     "execution_count": 8,
     "metadata": {},
     "output_type": "execute_result"
    }
   ],
   "source": [
    "train_v1, dfsub_v1 = addMeanValues_2(train_v1, dfsub_v1, byDAY_WE_DS=True, byDAY=True, byMonth=True, byHour=True, byTEAM=True, byYear=True)\n",
    "train_v1.head()"
   ]
  },
  {
   "cell_type": "code",
   "execution_count": 9,
   "metadata": {
    "collapsed": false
   },
   "outputs": [
    {
     "data": {
      "text/html": [
       "<div>\n",
       "<table border=\"1\" class=\"dataframe\">\n",
       "  <thead>\n",
       "    <tr style=\"text-align: right;\">\n",
       "      <th></th>\n",
       "      <th>DATE</th>\n",
       "      <th>ASS_ASSIGNMENT</th>\n",
       "      <th>Year</th>\n",
       "      <th>Month</th>\n",
       "      <th>Day</th>\n",
       "      <th>DAY_WE_DS</th>\n",
       "      <th>WEEK_END</th>\n",
       "      <th>TPER_HOUR</th>\n",
       "      <th>TPER_TEAM</th>\n",
       "      <th>meanByDAY_WE_DS</th>\n",
       "      <th>meanByDay</th>\n",
       "      <th>meanByMonth</th>\n",
       "      <th>meanByHour</th>\n",
       "      <th>meanByTEAM</th>\n",
       "      <th>meanByYear</th>\n",
       "    </tr>\n",
       "  </thead>\n",
       "  <tbody>\n",
       "    <tr>\n",
       "      <th>0</th>\n",
       "      <td>2012-12-28 00:00:00.000</td>\n",
       "      <td>1</td>\n",
       "      <td>2012</td>\n",
       "      <td>12</td>\n",
       "      <td>28</td>\n",
       "      <td>5</td>\n",
       "      <td>0</td>\n",
       "      <td>0</td>\n",
       "      <td>0</td>\n",
       "      <td>0.010152</td>\n",
       "      <td>0.008547</td>\n",
       "      <td>0.014648</td>\n",
       "      <td>0.000000</td>\n",
       "      <td>0.000000</td>\n",
       "      <td>0.008778</td>\n",
       "    </tr>\n",
       "    <tr>\n",
       "      <th>1</th>\n",
       "      <td>2012-12-28 00:00:00.000</td>\n",
       "      <td>2</td>\n",
       "      <td>2012</td>\n",
       "      <td>12</td>\n",
       "      <td>28</td>\n",
       "      <td>5</td>\n",
       "      <td>0</td>\n",
       "      <td>0</td>\n",
       "      <td>0</td>\n",
       "      <td>0.010753</td>\n",
       "      <td>0.000000</td>\n",
       "      <td>0.001916</td>\n",
       "      <td>0.000000</td>\n",
       "      <td>0.000355</td>\n",
       "      <td>0.000822</td>\n",
       "    </tr>\n",
       "    <tr>\n",
       "      <th>2</th>\n",
       "      <td>2012-12-28 00:00:00.000</td>\n",
       "      <td>3</td>\n",
       "      <td>2012</td>\n",
       "      <td>12</td>\n",
       "      <td>28</td>\n",
       "      <td>5</td>\n",
       "      <td>0</td>\n",
       "      <td>0</td>\n",
       "      <td>0</td>\n",
       "      <td>8.279745</td>\n",
       "      <td>6.670141</td>\n",
       "      <td>6.525083</td>\n",
       "      <td>0.154762</td>\n",
       "      <td>0.089810</td>\n",
       "      <td>6.754066</td>\n",
       "    </tr>\n",
       "    <tr>\n",
       "      <th>3</th>\n",
       "      <td>2012-12-28 00:00:00.000</td>\n",
       "      <td>5</td>\n",
       "      <td>2012</td>\n",
       "      <td>12</td>\n",
       "      <td>28</td>\n",
       "      <td>5</td>\n",
       "      <td>0</td>\n",
       "      <td>0</td>\n",
       "      <td>0</td>\n",
       "      <td>0.002651</td>\n",
       "      <td>0.006748</td>\n",
       "      <td>0.006412</td>\n",
       "      <td>0.000000</td>\n",
       "      <td>0.000126</td>\n",
       "      <td>0.002271</td>\n",
       "    </tr>\n",
       "    <tr>\n",
       "      <th>4</th>\n",
       "      <td>2012-12-28 00:00:00.000</td>\n",
       "      <td>6</td>\n",
       "      <td>2012</td>\n",
       "      <td>12</td>\n",
       "      <td>28</td>\n",
       "      <td>5</td>\n",
       "      <td>0</td>\n",
       "      <td>0</td>\n",
       "      <td>0</td>\n",
       "      <td>3.423617</td>\n",
       "      <td>2.859543</td>\n",
       "      <td>2.338767</td>\n",
       "      <td>0.003074</td>\n",
       "      <td>0.000387</td>\n",
       "      <td>2.744470</td>\n",
       "    </tr>\n",
       "  </tbody>\n",
       "</table>\n",
       "</div>"
      ],
      "text/plain": [
       "                      DATE  ASS_ASSIGNMENT  Year  Month  Day  DAY_WE_DS  \\\n",
       "0  2012-12-28 00:00:00.000               1  2012     12   28          5   \n",
       "1  2012-12-28 00:00:00.000               2  2012     12   28          5   \n",
       "2  2012-12-28 00:00:00.000               3  2012     12   28          5   \n",
       "3  2012-12-28 00:00:00.000               5  2012     12   28          5   \n",
       "4  2012-12-28 00:00:00.000               6  2012     12   28          5   \n",
       "\n",
       "   WEEK_END  TPER_HOUR  TPER_TEAM  meanByDAY_WE_DS  meanByDay  meanByMonth  \\\n",
       "0         0          0          0         0.010152   0.008547     0.014648   \n",
       "1         0          0          0         0.010753   0.000000     0.001916   \n",
       "2         0          0          0         8.279745   6.670141     6.525083   \n",
       "3         0          0          0         0.002651   0.006748     0.006412   \n",
       "4         0          0          0         3.423617   2.859543     2.338767   \n",
       "\n",
       "   meanByHour  meanByTEAM  meanByYear  \n",
       "0    0.000000    0.000000    0.008778  \n",
       "1    0.000000    0.000355    0.000822  \n",
       "2    0.154762    0.089810    6.754066  \n",
       "3    0.000000    0.000126    0.002271  \n",
       "4    0.003074    0.000387    2.744470  "
      ]
     },
     "execution_count": 9,
     "metadata": {},
     "output_type": "execute_result"
    }
   ],
   "source": [
    "dfsub_v1.head(5)"
   ]
  },
  {
   "cell_type": "markdown",
   "metadata": {},
   "source": [
    "## 1.6 Use OneHotEncoder to catagorical features"
   ]
  },
  {
   "cell_type": "code",
   "execution_count": 64,
   "metadata": {
    "collapsed": false
   },
   "outputs": [
    {
     "name": "stdout",
     "output_type": "stream",
     "text": [
      "(1030829, 14)\n",
      "(1030829, 137)\n",
      "(82909, 14)\n",
      "(82909, 137)\n"
     ]
    }
   ],
   "source": [
    "from sklearn.preprocessing import OneHotEncoder\n",
    "\n",
    "train_v1_1 = train_v1[['WEEK_END','DAY_WE_DS','TPER_TEAM','TPER_HOUR','ASS_ASSIGNMENT','Year','Month','Day','meanByDAY_WE_DS','meanByDay','meanByMonth','meanByHour','meanByTEAM','meanByYear']].values\n",
    "print np.shape(train_v1_1)\n",
    "enc = OneHotEncoder(categorical_features=[False,True,False,True,True,True,True,True,False,False,False,False,False,False])\n",
    "train_v2 = enc.fit_transform(train_v1_1)\n",
    "print train_v2.toarray().shape\n",
    "\n",
    "test_v1 = dfsub_v1[['WEEK_END','DAY_WE_DS','TPER_TEAM','TPER_HOUR','ASS_ASSIGNMENT','Year','Month','Day','meanByDAY_WE_DS','meanByDay','meanByMonth','meanByHour','meanByTEAM','meanByYear']].values\n",
    "print np.shape(test_v1)\n",
    "test_v2 = enc.transform(test_v1).toarray()\n",
    "print test_v2.shape"
   ]
  },
  {
   "cell_type": "markdown",
   "metadata": {},
   "source": [
    "# 2. Get the training and submission data"
   ]
  },
  {
   "cell_type": "code",
   "execution_count": 65,
   "metadata": {
    "collapsed": true
   },
   "outputs": [],
   "source": [
    "X_train = train_v2\n",
    "y_train = train.sum_RECEIVED_CALLS.values.copy()\n",
    "X_sub = test_v2"
   ]
  },
  {
   "cell_type": "markdown",
   "metadata": {},
   "source": [
    "# 3. Training"
   ]
  },
  {
   "cell_type": "markdown",
   "metadata": {},
   "source": [
    "## 3.1 RandomForest"
   ]
  },
  {
   "cell_type": "code",
   "execution_count": 66,
   "metadata": {
    "collapsed": true
   },
   "outputs": [],
   "source": [
    "from sklearn.ensemble import RandomForestRegressor\n",
    "randomForest = RandomForestRegressor(n_estimators=20, criterion='mse', max_depth=None, min_samples_split=2, min_samples_leaf=1, n_jobs=-1)   \n",
    "randomForest.fit(X_train,y_train)\n",
    "y_sub = randomForest.predict(X_sub)"
   ]
  },
  {
   "cell_type": "code",
   "execution_count": 29,
   "metadata": {
    "collapsed": false
   },
   "outputs": [
    {
     "data": {
      "text/plain": [
       "(82909,)"
      ]
     },
     "execution_count": 29,
     "metadata": {},
     "output_type": "execute_result"
    }
   ],
   "source": [
    "np.array(y_sub).shape"
   ]
  },
  {
   "cell_type": "markdown",
   "metadata": {},
   "source": [
    "# 4. Submission"
   ]
  },
  {
   "cell_type": "code",
   "execution_count": 67,
   "metadata": {
    "collapsed": false
   },
   "outputs": [
    {
     "data": {
      "text/html": [
       "<div>\n",
       "<table border=\"1\" class=\"dataframe\">\n",
       "  <thead>\n",
       "    <tr style=\"text-align: right;\">\n",
       "      <th></th>\n",
       "      <th>DATE</th>\n",
       "      <th>ASS_ASSIGNMENT</th>\n",
       "    </tr>\n",
       "  </thead>\n",
       "  <tbody>\n",
       "    <tr>\n",
       "      <th>0</th>\n",
       "      <td>2012-12-28 00:00:00.000</td>\n",
       "      <td>CMS</td>\n",
       "    </tr>\n",
       "    <tr>\n",
       "      <th>1</th>\n",
       "      <td>2012-12-28 00:00:00.000</td>\n",
       "      <td>Crises</td>\n",
       "    </tr>\n",
       "    <tr>\n",
       "      <th>2</th>\n",
       "      <td>2012-12-28 00:00:00.000</td>\n",
       "      <td>Domicile</td>\n",
       "    </tr>\n",
       "    <tr>\n",
       "      <th>3</th>\n",
       "      <td>2012-12-28 00:00:00.000</td>\n",
       "      <td>Gestion</td>\n",
       "    </tr>\n",
       "    <tr>\n",
       "      <th>4</th>\n",
       "      <td>2012-12-28 00:00:00.000</td>\n",
       "      <td>Gestion - Accueil Telephonique</td>\n",
       "    </tr>\n",
       "  </tbody>\n",
       "</table>\n",
       "</div>"
      ],
      "text/plain": [
       "                      DATE                  ASS_ASSIGNMENT\n",
       "0  2012-12-28 00:00:00.000                             CMS\n",
       "1  2012-12-28 00:00:00.000                          Crises\n",
       "2  2012-12-28 00:00:00.000                        Domicile\n",
       "3  2012-12-28 00:00:00.000                         Gestion\n",
       "4  2012-12-28 00:00:00.000  Gestion - Accueil Telephonique"
      ]
     },
     "execution_count": 67,
     "metadata": {},
     "output_type": "execute_result"
    }
   ],
   "source": [
    "sub = dfsub.copy()\n",
    "sub.head()"
   ]
  },
  {
   "cell_type": "code",
   "execution_count": 68,
   "metadata": {
    "collapsed": false
   },
   "outputs": [
    {
     "data": {
      "text/html": [
       "<div>\n",
       "<table border=\"1\" class=\"dataframe\">\n",
       "  <thead>\n",
       "    <tr style=\"text-align: right;\">\n",
       "      <th></th>\n",
       "      <th>DATE</th>\n",
       "      <th>ASS_ASSIGNMENT</th>\n",
       "      <th>prediction</th>\n",
       "    </tr>\n",
       "  </thead>\n",
       "  <tbody>\n",
       "    <tr>\n",
       "      <th>0</th>\n",
       "      <td>2012-12-28 00:00:00.000</td>\n",
       "      <td>CMS</td>\n",
       "      <td>0.0</td>\n",
       "    </tr>\n",
       "    <tr>\n",
       "      <th>1</th>\n",
       "      <td>2012-12-28 00:00:00.000</td>\n",
       "      <td>Crises</td>\n",
       "      <td>0.0</td>\n",
       "    </tr>\n",
       "    <tr>\n",
       "      <th>2</th>\n",
       "      <td>2012-12-28 00:00:00.000</td>\n",
       "      <td>Domicile</td>\n",
       "      <td>0.1</td>\n",
       "    </tr>\n",
       "    <tr>\n",
       "      <th>3</th>\n",
       "      <td>2012-12-28 00:00:00.000</td>\n",
       "      <td>Gestion</td>\n",
       "      <td>0.0</td>\n",
       "    </tr>\n",
       "    <tr>\n",
       "      <th>4</th>\n",
       "      <td>2012-12-28 00:00:00.000</td>\n",
       "      <td>Gestion - Accueil Telephonique</td>\n",
       "      <td>0.0</td>\n",
       "    </tr>\n",
       "  </tbody>\n",
       "</table>\n",
       "</div>"
      ],
      "text/plain": [
       "                      DATE                  ASS_ASSIGNMENT  prediction\n",
       "0  2012-12-28 00:00:00.000                             CMS         0.0\n",
       "1  2012-12-28 00:00:00.000                          Crises         0.0\n",
       "2  2012-12-28 00:00:00.000                        Domicile         0.1\n",
       "3  2012-12-28 00:00:00.000                         Gestion         0.0\n",
       "4  2012-12-28 00:00:00.000  Gestion - Accueil Telephonique         0.0"
      ]
     },
     "execution_count": 68,
     "metadata": {},
     "output_type": "execute_result"
    }
   ],
   "source": [
    "sub['prediction'] = y_sub\n",
    "sub.head()"
   ]
  },
  {
   "cell_type": "markdown",
   "metadata": {},
   "source": [
    "**Must provide the path to save the submisson file**"
   ]
  },
  {
   "cell_type": "code",
   "execution_count": 69,
   "metadata": {
    "collapsed": true
   },
   "outputs": [],
   "source": [
    "path1 ='/home/minami_yunji/Challenges/AXA/result.txt'\n",
    "sub.to_csv(path1, sep='\\t',header=True, index=False)"
   ]
  }
 ],
 "metadata": {
  "kernelspec": {
   "display_name": "Python 2",
   "language": "python",
   "name": "python2"
  },
  "language_info": {
   "codemirror_mode": {
    "name": "ipython",
    "version": 2
   },
   "file_extension": ".py",
   "mimetype": "text/x-python",
   "name": "python",
   "nbconvert_exporter": "python",
   "pygments_lexer": "ipython2",
   "version": "2.7.12"
  }
 },
 "nbformat": 4,
 "nbformat_minor": 0
}
