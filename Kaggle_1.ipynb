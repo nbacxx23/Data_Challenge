{
 "cells": [
  {
   "cell_type": "code",
   "execution_count": 34,
   "metadata": {
    "collapsed": true
   },
   "outputs": [],
   "source": [
    "import csv\n",
    "import numpy as np\n",
    "from collections import Counter\n"
   ]
  },
  {
   "cell_type": "code",
   "execution_count": 35,
   "metadata": {
    "collapsed": false
   },
   "outputs": [],
   "source": [
    "data_train = csv.reader(open(\"train.csv\",\"rb\"))\n",
    "Id = []\n",
    "label = []\n",
    "feat = []\n",
    "for row in data_train:\n",
    "    Id.append(row[0])\n",
    "    feat.append(row[1:94])\n",
    "    label.append(row[94])"
   ]
  },
  {
   "cell_type": "code",
   "execution_count": 36,
   "metadata": {
    "collapsed": false
   },
   "outputs": [],
   "source": [
    "Id = Id[1:]\n",
    "feat = np.array(feat[1:])\n",
    "feat = feat.astype(np.int)\n",
    "\n"
   ]
  },
  {
   "cell_type": "code",
   "execution_count": 37,
   "metadata": {
    "collapsed": false
   },
   "outputs": [],
   "source": [
    "label = label[1:]\n",
    "c = Counter(label)\n",
    "feat_class = [0 for i in range(9)]\n",
    "for i in c:\n",
    "    k = int(i.split('_')[1])\n",
    "    feat_class[k-1] = c[i]\n",
    "\n",
    "feat_class_data = []\n",
    "k = 0\n",
    "for i in range(9):\n",
    "    feat_class_data.append(feat[k:k+feat_class[i]])"
   ]
  },
  {
   "cell_type": "code",
   "execution_count": 38,
   "metadata": {
    "collapsed": false
   },
   "outputs": [],
   "source": [
    "mean = []\n",
    "sigma = []\n",
    "for i in feat_class_data:\n",
    "    mean.append(np.mean(i, axis=0))\n",
    "    sigma.append(np.std(i,axis=0))"
   ]
  },
  {
   "cell_type": "code",
   "execution_count": 40,
   "metadata": {
    "collapsed": false
   },
   "outputs": [],
   "source": [
    "mean = np.array(mean)\n",
    "sigma = np.array(sigma)"
   ]
  },
  {
   "cell_type": "code",
   "execution_count": null,
   "metadata": {
    "collapsed": false
   },
   "outputs": [],
   "source": []
  },
  {
   "cell_type": "code",
   "execution_count": 41,
   "metadata": {
    "collapsed": false
   },
   "outputs": [],
   "source": [
    "for i in range(9):\n",
    "    feat_class_data[i]=(feat_class_data[i]-mean[i])/sigma[i]"
   ]
  },
  {
   "cell_type": "code",
   "execution_count": 43,
   "metadata": {
    "collapsed": false
   },
   "outputs": [
    {
     "name": "stdout",
     "output_type": "stream",
     "text": [
      "[[ 0.45288782 -0.26524206 -0.32803275 ..., -0.1676353  -0.34506037\n",
      "  -0.18808257]\n",
      " [-0.35827338 -0.26524206 -0.32803275 ..., -0.1676353  -0.34506037\n",
      "  -0.18808257]\n",
      " [-0.35827338 -0.26524206 -0.32803275 ..., -0.1676353  -0.34506037\n",
      "  -0.18808257]\n",
      " ..., \n",
      " [-0.35827338 -0.26524206 -0.32803275 ..., -0.1676353  -0.34506037\n",
      "  -0.18808257]\n",
      " [-0.35827338 -0.26524206 -0.32803275 ..., -0.1676353  -0.34506037\n",
      "  -0.18808257]\n",
      " [-0.35827338 -0.26524206 -0.32803275 ..., -0.1676353  -0.34506037\n",
      "  -0.18808257]]\n"
     ]
    }
   ],
   "source": []
  },
  {
   "cell_type": "code",
   "execution_count": null,
   "metadata": {
    "collapsed": true
   },
   "outputs": [],
   "source": []
  }
 ],
 "metadata": {
  "kernelspec": {
   "display_name": "Python 2",
   "language": "python",
   "name": "python2"
  },
  "language_info": {
   "codemirror_mode": {
    "name": "ipython",
    "version": 2
   },
   "file_extension": ".py",
   "mimetype": "text/x-python",
   "name": "python",
   "nbconvert_exporter": "python",
   "pygments_lexer": "ipython2",
   "version": "2.7.6"
  }
 },
 "nbformat": 4,
 "nbformat_minor": 1
}
